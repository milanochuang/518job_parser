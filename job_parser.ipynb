{
  "nbformat": 4,
  "nbformat_minor": 0,
  "metadata": {
    "colab": {
      "name": "job_parser.ipynb",
      "provenance": [],
      "authorship_tag": "ABX9TyPArlHH3kLTVDWDwHznkRH7",
      "include_colab_link": true
    },
    "kernelspec": {
      "name": "python3",
      "display_name": "Python 3"
    },
    "language_info": {
      "name": "python"
    }
  },
  "cells": [
    {
      "cell_type": "markdown",
      "metadata": {
        "id": "view-in-github",
        "colab_type": "text"
      },
      "source": [
        "<a href=\"https://colab.research.google.com/github/milanochuang/518job_parser/blob/master/job_parser.ipynb\" target=\"_parent\"><img src=\"https://colab.research.google.com/assets/colab-badge.svg\" alt=\"Open In Colab\"/></a>"
      ]
    },
    {
      "cell_type": "code",
      "metadata": {
        "id": "FJBSaPMKKZN3"
      },
      "source": [
        "import requests\n",
        "from bs4 import BeautifulSoup\n",
        "from pathlib import Path\n",
        "import datetime\n",
        "import json\n",
        "import ast"
      ],
      "execution_count": 1,
      "outputs": []
    },
    {
      "cell_type": "code",
      "metadata": {
        "id": "NDNM_sjyNpZ-"
      },
      "source": [
        "url = \"https://www.518.com.tw/job-index.html\"\n",
        "url_2 = \"https://www.518.com.tw/job-index-P-{}.html?ai=0&ai=0\""
      ],
      "execution_count": 2,
      "outputs": []
    },
    {
      "cell_type": "code",
      "metadata": {
        "id": "lHyiBw73JAVE"
      },
      "source": [
        "def jobURL_grabber(URL, jobUrlLIST):\n",
        "  r = requests.get(url)\n",
        "  jobpage = BeautifulSoup(r.text, \"html.parser\")\n",
        "  for i in jobpage.find_all('a', href=True):\n",
        "    if 'https://www.518.com.tw/job' in i['href']:\n",
        "      if 'index' not in i['href']:\n",
        "        if i['href'] in jobUrlLIST:\n",
        "          continue\n",
        "        else:\n",
        "          jobUrlLIST.append(i['href'])\n",
        "  return jobUrlLIST"
      ],
      "execution_count": 3,
      "outputs": []
    },
    {
      "cell_type": "code",
      "metadata": {
        "colab": {
          "base_uri": "https://localhost:8080/"
        },
        "id": "CwjTOpi0NxSh",
        "outputId": "b2f5465f-610c-48ef-c0d9-4ed8e75a6e9b"
      },
      "source": [
        "pageIndex = 1\n",
        "jobUrlLIST = list()\n",
        "print(\"正在爬取第{}頁\".format(pageIndex))\n",
        "jobURL_grabber(url, jobUrlLIST)\n",
        "for i in range(2, 3): #正式抓取應為151\n",
        "    pageIndex += 1\n",
        "    print(\"正在爬取第{}頁\".format(pageIndex))\n",
        "    jobURL_grabber(url_2.format(i), jobUrlLIST)\n",
        "with open(\"518JobUrlLIST_{}.json\".format(datetime.date.today()), \"w\", encoding=\"utf-8\") as f:\n",
        "        json.dump(jobUrlLIST, f, ensure_ascii=False)"
      ],
      "execution_count": 4,
      "outputs": [
        {
          "output_type": "stream",
          "text": [
            "正在爬取第1頁\n",
            "正在爬取第2頁\n"
          ],
          "name": "stdout"
        }
      ]
    },
    {
      "cell_type": "code",
      "metadata": {
        "id": "3bH59W5dRJmQ"
      },
      "source": [
        "def data_cleaner(string):\n",
        "  jobSTR = [x.replace(\"\\r\",\"\") for x in string]\n",
        "  joblist = [x.replace(\"\\n\",\"\") for x in jobSTR]\n",
        "  return joblist"
      ],
      "execution_count": 5,
      "outputs": []
    },
    {
      "cell_type": "code",
      "metadata": {
        "id": "mff5ZOT1Z39J"
      },
      "source": [
        "def jobLIST_grabber(jobUrl):\n",
        "  resultDICT = {\n",
        "        \"jobTitle\": \"\",\n",
        "        \"company\": \"\",\n",
        "        \"salary\":[''],\n",
        "        \"geoInfo\":{\"road\":\"\",\n",
        "                   \"address\": \"\"\n",
        "                   },\n",
        "        \"majoring\":[''],\n",
        "        \"tool\":[''],\n",
        "        \"skills\":[''],\n",
        "        \"certificate\":[''],\n",
        "        \"experience\":[''],\n",
        "        \"license\":''\n",
        "    }\n",
        "  r = requests.get(jobUrl)\n",
        "  jobpage = BeautifulSoup(r.text, \"html.parser\")\n",
        "  title = data_cleaner(jobpage.find(class_ = \"job-title\"))[0]\n",
        "  resultDICT['jobTitle'] = title\n",
        "  salary = jobpage.find(class_ = 'jobItem').find(\"li\").find(\"span\").text[1:]\n",
        "  resultDICT['salary'] = salary\n",
        "  company = jobpage.select(\"a span\")[1].text\n",
        "  resultDICT['company'] = company\n",
        "  address = jobpage.find(class_ = 'jobItem').find_all(\"li\")[1].find(\"span\").text[1:]\n",
        "  resultDICT['geoInfo']['address'] = address\n",
        "  condition = jobpage.find(class_ = 'condition').find_all('li')\n",
        "  index = 1\n",
        "  for i in condition:\n",
        "    if i.find(\"span\") != None:\n",
        "      # print(\"第{}個\".format(index), i.text[0:4], i.find(\"span\").text)\n",
        "      index+=1\n",
        "      if '工作經驗' in i.text:\n",
        "        if i.text[0:4] == \"工作經驗\":\n",
        "          experience = i.find(\"span\").text[1:]\n",
        "          resultDICT['experience'] = experience\n",
        "      else:\n",
        "        experience = ''\n",
        "      if '科系限制' in i.text:\n",
        "        if i.text[0:4] == \"科系限制\":\n",
        "          majoring = i.find(\"span\").text\n",
        "          resultDICT['majoring'] = majoring\n",
        "      else:\n",
        "        majoring = ''\n",
        "      if '語文條件' in i.text:\n",
        "        if i.text[0:4] == \"語文條件\":\n",
        "          language = i.find(\"span\").text[1:]\n",
        "          language = language.replace(\"\\xa0\", \" \")\n",
        "          resultDICT['language'] = language\n",
        "      else:\n",
        "        language = ''\n",
        "      if '擅長工具' in i.text:\n",
        "        if i.text[0:4] == \"擅長工具\":\n",
        "          tool = i.find(\"span\").text[1:]\n",
        "          resultDICT['tool'] = tool\n",
        "      else:\n",
        "        tool = ''\n",
        "      if '工作技能' in i.text:\n",
        "        if i.text[0:4] == \"工作技能\":\n",
        "          if '駕照' in i.find(\"span\").text:\n",
        "            skills = i.find(\"span\").text[1:3]\n",
        "            resultDICT['skills'] = skills\n",
        "          else:\n",
        "            skills = i.find(\"span\").text[1:]\n",
        "            resultDICT['skills'] = skills\n",
        "      else:\n",
        "        skills = ''\n",
        "      if '所需證照' in i.text:\n",
        "        if i.text[0:4] == \"所需證照\":\n",
        "          certificate = i.find(\"span\").text\n",
        "          resultDICT['certificate'] = certificate\n",
        "      else:\n",
        "        certificate = ''\n",
        "      if '需備駕照' in i.text:\n",
        "        if i.text[0:4] == \"需備駕照\":\n",
        "          license = i.find(\"span\").text\n",
        "          resultDICT['license'] = license\n",
        "      else:\n",
        "        license = ''\n",
        "  return resultDICT"
      ],
      "execution_count": 6,
      "outputs": []
    },
    {
      "cell_type": "code",
      "metadata": {
        "colab": {
          "base_uri": "https://localhost:8080/"
        },
        "id": "zyY7UPIFNb6E",
        "outputId": "7f59c836-f878-4356-f4f0-904928477a9d"
      },
      "source": [
        "resultLIST = list()\n",
        "for jobUrl in jobUrlLIST:\n",
        "  if jobUrlLIST.index(jobUrl) == int(len(jobUrlLIST)*0.25):\n",
        "    print(\"已爬取25%的網頁\")\n",
        "  if jobUrlLIST.index(jobUrl) == int(len(jobUrlLIST)*0.5):\n",
        "    print(\"已爬取50%的網頁\")\n",
        "  if jobUrlLIST.index(jobUrl) == int(len(jobUrlLIST)*0.75):\n",
        "    print(\"已爬取75%的網頁\")\n",
        "  resultDICT = jobLIST_grabber(jobUrl)\n",
        "  resultLIST.append(resultDICT)\n",
        "print(\"爬取完畢\")"
      ],
      "execution_count": 7,
      "outputs": [
        {
          "output_type": "stream",
          "text": [
            "已爬取25%的網頁\n",
            "已爬取50%的網頁\n",
            "已爬取75%的網頁\n",
            "爬取完畢\n"
          ],
          "name": "stdout"
        }
      ]
    },
    {
      "cell_type": "code",
      "metadata": {
        "colab": {
          "base_uri": "https://localhost:8080/"
        },
        "id": "J5FlIF5bnE5r",
        "outputId": "484de646-ad5a-4790-f143-5328e204e34e"
      },
      "source": [
        "for i in resultLIST:\n",
        "  print(i)"
      ],
      "execution_count": 8,
      "outputs": [
        {
          "output_type": "stream",
          "text": [
            "{'jobTitle': '電訪人員', 'company': '合潤行銷有限公司', 'salary': '月薪 24,000 元以上', 'geoInfo': {'road': '', 'address': '高雄市苓雅區光華一路206號11樓之10'}, 'majoring': [''], 'tool': '不拘', 'skills': '不拘', 'certificate': [''], 'experience': '不拘', 'license': '', 'language': '中文 聽:精通 / 說:精通 / 讀:精通 / 寫:精通方言條件 台語 : 略懂 '}\n",
            "{'jobTitle': '銷售助理', 'company': '錦卿企業有限公司', 'salary': '時薪 160 元以上', 'geoInfo': {'road': '', 'address': '新北市板橋區南雅南路二段104號1樓'}, 'majoring': [''], 'tool': '不拘', 'skills': '不拘', 'certificate': [''], 'experience': '不拘', 'license': '', 'language': '不拘'}\n",
            "{'jobTitle': '水電師傅', 'company': '東岳修繕工程行', 'salary': '月薪 60,000 至 80,000 元', 'geoInfo': {'road': '', 'address': '新北市土城區延和路105巷7弄13號'}, 'majoring': [''], 'tool': '不拘', 'skills': '不拘', 'certificate': [''], 'experience': '不拘', 'license': '普通重型機車、普通小型車', 'language': '不拘'}\n",
            "{'jobTitle': '店長', 'company': '美簾工坊', 'salary': '月薪 35,000 至 40,000 元', 'geoInfo': {'road': '', 'address': '台南市安南區安吉路一段202號'}, 'majoring': [''], 'tool': 'Excel、Word', 'skills': '工作', 'certificate': [''], 'experience': '1年以上', 'license': '輕型機車、普通重型機車、普通小型車', 'language': '不拘'}\n",
            "{'jobTitle': '車貸電訪人員', 'company': '合潤行銷有限公司', 'salary': '月薪 24,000 元以上', 'geoInfo': {'road': '', 'address': '高雄市苓雅區光華一路206號11樓之10'}, 'majoring': [''], 'tool': '不拘', 'skills': '不拘', 'certificate': [''], 'experience': '不拘', 'license': '', 'language': '中文 聽:精通 / 說:精通 / 讀:精通 / 寫:精通方言條件 台語 : 略懂 '}\n",
            "{'jobTitle': '電焊半技工', 'company': '神紘國際有限公司', 'salary': '月薪 28,000 元以上', 'geoInfo': {'road': '', 'address': '新北市新莊區環漢路3段462號'}, 'majoring': [''], 'tool': '不拘', 'skills': '不拘', 'certificate': [''], 'experience': '不拘', 'license': '', 'language': '不拘'}\n",
            "{'jobTitle': '學徒', 'company': '神紘國際有限公司', 'salary': '月薪 24,000 元以上', 'geoInfo': {'road': '', 'address': '新北市新莊區環漢路3段462號'}, 'majoring': [''], 'tool': '不拘', 'skills': '不拘', 'certificate': [''], 'experience': '不拘', 'license': '', 'language': '不拘'}\n",
            "{'jobTitle': '【富築】台中包租代管(東區)(挑戰年薪破百)', 'company': '富築不動產有限公司', 'salary': '論件計酬(每件) 3,000 至 120,000 元', 'geoInfo': {'road': '', 'address': '台中市西區臺灣大道二段300號12樓之一'}, 'majoring': [''], 'tool': '不拘', 'skills': '不拘', 'certificate': [''], 'experience': '不拘', 'license': '', 'language': '不拘'}\n",
            "{'jobTitle': '業務行政助理', 'company': '御裳國際貿易有限公司', 'salary': '月薪 25,000 元', 'geoInfo': {'road': '', 'address': '台中市西屯區大恩街20-1號1樓'}, 'majoring': [''], 'tool': 'Word、Excel、Internet Explorer', 'skills': '不拘', 'certificate': [''], 'experience': '無經驗可', 'license': '輕型機車、普通小型車', 'language': '中文 聽:精通 / 說:精通 / 讀:精通 / 寫:精通英文 聽:精通 / 說:精通 / 讀:精通 / 寫:精通'}\n",
            "{'jobTitle': '咖啡材料_整箱理貨員', 'company': '享東企業有限公司', 'salary': '月薪 25,000 至 30,000 元', 'geoInfo': {'road': '', 'address': '桃園市中壢區自強六路5號'}, 'majoring': [''], 'tool': '不拘', 'skills': '理貨╱揀貨╱補貨作業', 'certificate': [''], 'experience': '不拘', 'license': '', 'language': '不拘'}\n",
            "{'jobTitle': '可不可熟成紅茶_北屯北平店-早班工讀', 'company': '可不可熟成紅茶_向醇有限公司', 'salary': '時薪 160 元', 'geoInfo': {'road': '', 'address': '台中市北屯區北平路三段165號'}, 'majoring': [''], 'tool': '不拘', 'skills': '不拘', 'certificate': [''], 'experience': '不拘', 'license': '普通重型機車', 'language': '不拘'}\n",
            "{'jobTitle': '網拍助理', 'company': '光源照明有限公司', 'salary': '月薪 25,000 至 30,000 元', 'geoInfo': {'road': '', 'address': '新北市板橋區松柏街33巷16號'}, 'majoring': [''], 'tool': 'Word、Excel、Outlook、PowerPoint、Internet Explorer、中文打字50~75、Adobe Photoshop、Illustrator、3D Max', 'skills': '網站', 'certificate': [''], 'experience': '無經驗可', 'license': '輕型機車', 'language': '中文 聽:精通 / 說:中等 / 讀:精通 / 寫:精通方言條件 台語 : 略懂 '}\n",
            "{'jobTitle': '超商晚班正職人員', 'company': '統一超商鄉林加盟店(興得意有限公司)', 'salary': '月薪 26,000 至 30,000 元', 'geoInfo': {'road': '', 'address': '台中市南屯區大業路177號'}, 'majoring': [''], 'tool': '不拘', 'skills': '不拘', 'certificate': [''], 'experience': '無經驗可', 'license': '', 'language': '不拘'}\n",
            "{'jobTitle': '經絡芳療師', 'company': '御仙堂關新健康會館', 'salary': '月薪 28,000 至 90,000 元', 'geoInfo': {'road': '', 'address': '新竹市東區關新西街2號'}, 'majoring': [''], 'tool': '不拘', 'skills': '不拘', 'certificate': [''], 'experience': '不拘', 'license': '', 'language': '不拘'}\n",
            "{'jobTitle': '車貸電話行銷(固定底薪+高獎金) (嘉義市東區)', 'company': '仁嘉行銷有限公司', 'salary': '月薪 25,000 至 100,000 元', 'geoInfo': {'road': '', 'address': '嘉義市全區彌陀路102號'}, 'majoring': [''], 'tool': '不拘', 'skills': '不拘', 'certificate': [''], 'experience': '不拘', 'license': '', 'language': '不拘'}\n",
            "{'jobTitle': '業助出貨人員', 'company': '佰勳股份有限公司', 'salary': '月薪 24,000 至 26,000 元', 'geoInfo': {'road': '', 'address': '台中市大里區國中路3巷19號'}, 'majoring': [''], 'tool': '不拘', 'skills': '不拘', 'certificate': [''], 'experience': '1年以上', 'license': '', 'language': '不拘'}\n",
            "{'jobTitle': '斯朵利美甲美學高雄武廟店', 'company': '斯朵利國際有限公司', 'salary': '月薪 25,000 元以上', 'geoInfo': {'road': '', 'address': '高雄市苓雅區武廟路160-1號'}, 'majoring': [''], 'tool': '不拘', 'skills': '不拘', 'certificate': [''], 'experience': '不拘', 'license': '', 'language': '不拘'}\n",
            "{'jobTitle': '客服收銀儲備幹部(天津門市)', 'company': '台灣楓康超市股份有限公司', 'salary': '月薪 25,000 至 28,000 元', 'geoInfo': {'road': '', 'address': '台中市北屯區天津路三段2號'}, 'majoring': [''], 'tool': '不拘', 'skills': '不拘', 'certificate': [''], 'experience': '無經驗可', 'license': '', 'language': '不拘'}\n",
            "{'jobTitle': '早班計時人員-台北和平東店', 'company': '林記海南雞飯', 'salary': '時薪 165 至 200 元', 'geoInfo': {'road': '', 'address': '台北市大安區和平東路二段118巷65號1樓'}, 'majoring': [''], 'tool': '不拘', 'skills': '不拘', 'certificate': [''], 'experience': '不拘', 'license': '', 'language': '不拘'}\n",
            "{'jobTitle': '內場/外場正職服務人員-台北和平店', 'company': '林記海南雞飯', 'salary': '月薪 33,000 至 40,000 元', 'geoInfo': {'road': '', 'address': '台北市大安區和平東路二段118巷65號1樓'}, 'majoring': [''], 'tool': '不拘', 'skills': '不拘', 'certificate': [''], 'experience': '不拘', 'license': '', 'language': '不拘'}\n",
            "{'jobTitle': '車貸電話行銷(底薪+高獎金) (板橋文化路)', 'company': '仁嘉行銷有限公司', 'salary': '月薪 25,000 至 100,000 元', 'geoInfo': {'road': '', 'address': '新北市板橋區文化路一段188巷18號3樓'}, 'majoring': [''], 'tool': '不拘', 'skills': '不拘', 'certificate': [''], 'experience': '不拘', 'license': '', 'language': '不拘'}\n",
            "{'jobTitle': '內場/外場正職服務人員-遼寧總店', 'company': '林記海南雞飯', 'salary': '月薪 33,000 至 40,000 元', 'geoInfo': {'road': '', 'address': '台北市中山區遼寧街11號'}, 'majoring': [''], 'tool': '不拘', 'skills': '不拘', 'certificate': [''], 'experience': '不拘', 'license': '', 'language': '不拘'}\n",
            "{'jobTitle': '大貨車司機數名起薪40000', 'company': '順彬建材', 'salary': '面議(薪資達四萬以上)', 'geoInfo': {'road': '', 'address': '苗栗縣後龍鎮大山里明山路114號'}, 'majoring': [''], 'tool': '不拘', 'skills': '不拘', 'certificate': [''], 'experience': '不拘', 'license': '普通大貨車', 'language': '不拘'}\n",
            "{'jobTitle': '烏日廠-夜班生產線組長', 'company': '八結國際股份有限公司', 'salary': '月薪 36,000 至 40,000 元', 'geoInfo': {'road': '', 'address': '台中市烏日區太明路６７巷１９號'}, 'majoring': [''], 'tool': 'Word、Excel', 'skills': '生產工作日誌建檔管理、盤點作業規劃執行、操作控制及故障排除、達成產能及出貨目標、維持產線正常運轉並跟催生產進度', 'certificate': [''], 'experience': '3年以上', 'license': '', 'language': '不拘'}\n",
            "{'jobTitle': '生鮮組營業儲備幹部-太平店', 'company': '台灣楓康超市股份有限公司', 'salary': '月薪 25,000 至 28,000 元', 'geoInfo': {'road': '', 'address': '台中市太平區樹德路67-1號'}, 'majoring': [''], 'tool': '不拘', 'skills': '不拘', 'certificate': [''], 'experience': '無經驗可', 'license': '', 'language': '不拘'}\n",
            "{'jobTitle': '車貸電話行銷(底薪+高獎金) (桃園市復興路)', 'company': '仁嘉行銷有限公司', 'salary': '月薪 25,000 至 100,000 元', 'geoInfo': {'road': '', 'address': '桃園區復興路299號7樓之1'}, 'majoring': [''], 'tool': '不拘', 'skills': '不拘', 'certificate': [''], 'experience': '不拘', 'license': '', 'language': '不拘'}\n",
            "{'jobTitle': '知名通訊連鎖門市人員-[新莊區門市人員]', 'company': '聯歐通訊有限公司', 'salary': '月薪 32,000 至 37,000 元', 'geoInfo': {'road': '', 'address': '新北市新莊區新泰路 幸福路 富國路'}, 'majoring': [''], 'tool': '不拘', 'skills': '不拘', 'certificate': [''], 'experience': '無經驗可', 'license': '輕型機車、普通重型機車', 'language': '不拘'}\n",
            "{'jobTitle': '台灣彩券-(可休六日)鼓山華榮早班門市營銷專員(歡迎挑戰高薪)', 'company': '大幸福彩劵行', 'salary': '月薪 25,000 至 35,000 元', 'geoInfo': {'road': '', 'address': '高雄市鼓山區華榮路'}, 'majoring': [''], 'tool': '不拘', 'skills': '不拘', 'certificate': [''], 'experience': '無經驗可', 'license': '輕型機車、普通重型機車', 'language': '不拘'}\n",
            "{'jobTitle': '超商早班時薪工讀生', 'company': '統一超商鄉林加盟店(興得意有限公司)', 'salary': '時薪 160 至 180 元', 'geoInfo': {'road': '', 'address': '台中市南屯區大業路177號'}, 'majoring': [''], 'tool': '不拘', 'skills': '不拘', 'certificate': [''], 'experience': '不拘', 'license': '', 'language': '不拘'}\n",
            "{'jobTitle': '新竹SPA芳療師 保障底薪3萬6 (無經驗可免費培訓、高抽成獎金)', 'company': '御仙堂企業管理社', 'salary': '月薪 28,000 至 50,000 元', 'geoInfo': {'road': '', 'address': '新竹縣竹北市成功二街23號'}, 'majoring': [''], 'tool': '不拘', 'skills': '不拘', 'certificate': [''], 'experience': '不拘', 'license': '', 'language': '不拘'}\n",
            "{'jobTitle': '櫃台客服人員', 'company': '冠天下Royal Spa 旗艦殿', 'salary': '月薪 24,000 至 28,000 元', 'geoInfo': {'road': '', 'address': '苗栗市饒平街80號'}, 'majoring': [''], 'tool': '不拘', 'skills': '不拘', 'certificate': [''], 'experience': '無經驗可', 'license': '輕型機車', 'language': '不拘'}\n",
            "{'jobTitle': '達美樂小港店徵工讀生早晚班計時人員', 'company': '達美樂披薩(鈞茂食品)', 'salary': '時薪 160 至 170 元', 'geoInfo': {'road': '', 'address': '高雄市小港區宏平路316號'}, 'majoring': [''], 'tool': '不拘', 'skills': '不拘', 'certificate': [''], 'experience': '無經驗可', 'license': '普通重型機車', 'language': '不拘'}\n",
            "{'jobTitle': '達美樂前鎮鳳山瑞隆店徵工讀生早晚班計時人員', 'company': '達美樂披薩(鈞茂食品)', 'salary': '時薪 160 至 170 元', 'geoInfo': {'road': '', 'address': '高雄市前鎮區瑞隆路323號'}, 'majoring': [''], 'tool': '不拘', 'skills': '不拘', 'certificate': [''], 'experience': '無經驗可', 'license': '普通重型機車', 'language': '不拘'}\n",
            "{'jobTitle': '急徵美甲彩繪師(鼎山店)', 'company': '斯朵利國際有限公司', 'salary': '面議(薪資達四萬以上)', 'geoInfo': {'road': '', 'address': '高雄市三民區鼎山街351號'}, 'majoring': [''], 'tool': '不拘', 'skills': '不拘', 'certificate': [''], 'experience': '不拘', 'license': '', 'language': '不拘'}\n"
          ],
          "name": "stdout"
        }
      ]
    },
    {
      "cell_type": "code",
      "metadata": {
        "id": "ujqpb6njC28d"
      },
      "source": [
        "with open(\"518JobLIST_{}.json\".format(datetime.date.today()), \"w\", encoding=\"utf-8\") as f:\n",
        "        json.dump(resultLIST, f, ensure_ascii=False)"
      ],
      "execution_count": 9,
      "outputs": []
    }
  ]
}