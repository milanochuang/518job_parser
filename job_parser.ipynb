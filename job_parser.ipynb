{
  "nbformat": 4,
  "nbformat_minor": 0,
  "metadata": {
    "colab": {
      "name": "job_parser.ipynb",
      "provenance": [],
      "authorship_tag": "ABX9TyONhVD/bNVkHcw1VDu+rpbR",
      "include_colab_link": true
    },
    "kernelspec": {
      "name": "python3",
      "display_name": "Python 3"
    },
    "language_info": {
      "name": "python"
    }
  },
  "cells": [
    {
      "cell_type": "markdown",
      "metadata": {
        "id": "view-in-github",
        "colab_type": "text"
      },
      "source": [
        "<a href=\"https://colab.research.google.com/github/milanochuang/518job_parser/blob/master/job_parser.ipynb\" target=\"_parent\"><img src=\"https://colab.research.google.com/assets/colab-badge.svg\" alt=\"Open In Colab\"/></a>"
      ]
    },
    {
      "cell_type": "code",
      "metadata": {
        "id": "FJBSaPMKKZN3"
      },
      "source": [
        "import requests\n",
        "from bs4 import BeautifulSoup\n",
        "from pathlib import Path\n",
        "import datetime\n",
        "import json"
      ],
      "execution_count": 1,
      "outputs": []
    },
    {
      "cell_type": "code",
      "metadata": {
        "id": "NDNM_sjyNpZ-"
      },
      "source": [
        "url = \"https://www.518.com.tw/job-index.html\"\n",
        "url_2 = \"https://www.518.com.tw/job-index-P-{}.html?ai=0&ai=0\""
      ],
      "execution_count": 2,
      "outputs": []
    },
    {
      "cell_type": "code",
      "metadata": {
        "id": "lHyiBw73JAVE"
      },
      "source": [
        "def jobURL_grabber(URL, list):\n",
        "    r = requests.get(URL)\n",
        "    jobpage = BeautifulSoup(r.text, \"html.parser\")\n",
        "    for i in jobpage.find_all('a', href=True):\n",
        "        if 'https://www.518.com.tw/job' in i['href']:\n",
        "          if 'index' not in i['href']: # 跳過目錄頁\n",
        "            if i['href'] in list:\n",
        "              continue\n",
        "            else:\n",
        "              list.append(i['href'])\n",
        "    return list"
      ],
      "execution_count": 3,
      "outputs": []
    },
    {
      "cell_type": "code",
      "metadata": {
        "colab": {
          "base_uri": "https://localhost:8080/"
        },
        "id": "CwjTOpi0NxSh",
        "outputId": "67eccda6-e5f3-4488-c11d-f5c028520d63"
      },
      "source": [
        "pageIndex = 1\n",
        "jobUrlLIST_1 = list()\n",
        "jobUrlLIST_2 = list()\n",
        "print(\"正在爬取第{}頁\".format(pageIndex))\n",
        "jobUrlLIST_1 = jobURL_grabber(url, jobUrlLIST_1)\n",
        "for i in range(2, 3): #正式抓取應為151\n",
        "    pageIndex += 1\n",
        "    print(\"正在爬取第{}頁\".format(pageIndex))\n",
        "    jobUrlLIST_2 = jobURL_grabber(\"https://www.518.com.tw/job-index-P-{}.html?ai=0&ai=0\".format(i), jobUrlLIST_2)"
      ],
      "execution_count": 4,
      "outputs": [
        {
          "output_type": "stream",
          "text": [
            "正在爬取第1頁\n",
            "正在爬取第2頁\n"
          ],
          "name": "stdout"
        }
      ]
    },
    {
      "cell_type": "code",
      "metadata": {
        "colab": {
          "base_uri": "https://localhost:8080/"
        },
        "id": "ywpTJjpz3QY8",
        "outputId": "6fffa75c-6b77-4e5c-fab9-7e1065529a3d"
      },
      "source": [
        "for i in jobUrlLIST_1:\n",
        "  print(i)"
      ],
      "execution_count": 5,
      "outputs": [
        {
          "output_type": "stream",
          "text": [
            "https://www.518.com.tw/job-N6V3Xd.html\n",
            "https://www.518.com.tw/job-Gj5rW0.html\n",
            "https://www.518.com.tw/job-ynjpoB.html\n",
            "https://www.518.com.tw/job-GRwEAw.html\n",
            "https://www.518.com.tw/job-y3P2j1.html\n",
            "https://www.518.com.tw/job-Lmj0EW.html\n",
            "https://www.518.com.tw/job-L9PD1M.html\n",
            "https://www.518.com.tw/job-GRBDMw.html\n",
            "https://www.518.com.tw/job-ywEA44.html\n",
            "https://www.518.com.tw/job-GK5g1R.html\n",
            "https://www.518.com.tw/job-yOekqn.html\n",
            "https://www.518.com.tw/job-ydeY0E.html\n",
            "https://www.518.com.tw/job-LgjopO.html\n",
            "https://www.518.com.tw/job-LgjV4v.html\n",
            "https://www.518.com.tw/job-y2P7Jp.html\n",
            "https://www.518.com.tw/job-yYY7kE.html\n",
            "https://www.518.com.tw/job-ybbraE.html\n",
            "https://www.518.com.tw/job-Lz5kxZ.html\n",
            "https://www.518.com.tw/job-N6qYRK.html\n",
            "https://www.518.com.tw/job-N6Zoe7.html\n",
            "https://www.518.com.tw/job-GKemWE.html\n",
            "https://www.518.com.tw/job-GxjJx2.html\n",
            "https://www.518.com.tw/job-y5dg16.html\n",
            "https://www.518.com.tw/job-yMmBd2.html\n",
            "https://www.518.com.tw/job-Gjpo4A.html\n",
            "https://www.518.com.tw/job-L902zv.html\n",
            "https://www.518.com.tw/job-yMPkp2.html\n",
            "https://www.518.com.tw/job-GVrq54.html\n",
            "https://www.518.com.tw/job-yvlKQA.html\n",
            "https://www.518.com.tw/job-Gp7aXW.html\n",
            "https://www.518.com.tw/job-GQO6ka.html\n",
            "https://www.518.com.tw/job-yOj6EG.html\n",
            "https://www.518.com.tw/job-GZV23P.html\n"
          ],
          "name": "stdout"
        }
      ]
    },
    {
      "cell_type": "code",
      "metadata": {
        "colab": {
          "base_uri": "https://localhost:8080/"
        },
        "id": "6T8Q_Cjz3VD4",
        "outputId": "39de4e21-5889-48b8-a78d-4c2fcaf40e3e"
      },
      "source": [
        "for i in jobUrlLIST_2:\n",
        "  print(i)"
      ],
      "execution_count": 6,
      "outputs": [
        {
          "output_type": "stream",
          "text": [
            "https://www.518.com.tw/job-GRP4Mg.html?pi=2\n",
            "https://www.518.com.tw/job-NPoDEQ.html?pi=2\n",
            "https://www.518.com.tw/job-GQORP6.html?pi=2\n",
            "https://www.518.com.tw/job-Lz5Y0q.html?pi=2\n",
            "https://www.518.com.tw/job-Gajn2J.html?pi=2\n",
            "https://www.518.com.tw/job-ybdolv.html?pi=2\n",
            "https://www.518.com.tw/job-G84KQ5.html?pi=2\n",
            "https://www.518.com.tw/job-N6axE1.html?pi=2\n",
            "https://www.518.com.tw/job-yw6dW4.html?pi=2\n",
            "https://www.518.com.tw/job-GpMV3A.html?pi=2\n",
            "https://www.518.com.tw/job-GxRkYa.html?pi=2\n",
            "https://www.518.com.tw/job-LDeO0b.html?pi=2\n",
            "https://www.518.com.tw/job-GKejJV.html?pi=2\n",
            "https://www.518.com.tw/job-NqjM3K.html?pi=2\n",
            "https://www.518.com.tw/job-GojgoD.html?pi=2\n",
            "https://www.518.com.tw/job-Goj9qD.html?pi=2\n",
            "https://www.518.com.tw/job-ywAwxe.html?pi=2\n",
            "https://www.518.com.tw/job-ybjr9X.html?pi=2\n",
            "https://www.518.com.tw/job-ywY6D4.html?pi=2\n",
            "https://www.518.com.tw/job-yB1oOq.html?pi=2\n",
            "https://www.518.com.tw/job-LgAEEW.html?pi=2\n",
            "https://www.518.com.tw/job-y347Be.html?pi=2\n",
            "https://www.518.com.tw/job-LzdlDb.html?pi=2\n",
            "https://www.518.com.tw/job-GxRrMJ.html?pi=2\n",
            "https://www.518.com.tw/job-L9P8aM.html?pi=2\n",
            "https://www.518.com.tw/job-Nq2O4o.html?pi=2\n",
            "https://www.518.com.tw/job-GWk0gx.html?pi=2\n",
            "https://www.518.com.tw/job-GKpzXW.html?pi=2\n",
            "https://www.518.com.tw/job-y23QaP.html?pi=2\n",
            "https://www.518.com.tw/job-G7pYnK.html?pi=2\n",
            "https://www.518.com.tw/job-G7g88Z.html?pi=2\n",
            "https://www.518.com.tw/job-y5AD92.html?pi=2\n",
            "https://www.518.com.tw/job-N4PDxE.html?pi=2\n"
          ],
          "name": "stdout"
        }
      ]
    },
    {
      "cell_type": "code",
      "metadata": {
        "id": "DJJu7RjgxmOH"
      },
      "source": [
        "jobUrlLIST = jobUrlLIST_1 + jobUrlLIST_2"
      ],
      "execution_count": 7,
      "outputs": []
    },
    {
      "cell_type": "code",
      "metadata": {
        "id": "3bH59W5dRJmQ"
      },
      "source": [
        "def data_cleaner(string):\n",
        "  string = [x.replace(\"\\r\",\"\") for x in string]\n",
        "  joblist = [x.replace(\"\\n\",\"\") for x in string]\n",
        "  return joblist"
      ],
      "execution_count": 8,
      "outputs": []
    },
    {
      "cell_type": "code",
      "metadata": {
        "id": "mff5ZOT1Z39J"
      },
      "source": [
        "def jobLIST_grabber(jobUrl):\n",
        "  resultDICT = {\n",
        "        \"jobTitle\": \"\",\n",
        "        \"company\": \"\",\n",
        "        \"salary\":[''],\n",
        "        \"geoInfo\":{\"address\": \"\"},\n",
        "        \"majoring\":[''],\n",
        "        \"tool\":[''],\n",
        "        \"skills\":[''],\n",
        "        \"certificate\":[''],\n",
        "        \"experience\":[''],\n",
        "        \"license\":'',\n",
        "        \"language\":'',\n",
        "        \"dialect\":''\n",
        "    }\n",
        "  r = requests.get(jobUrl)\n",
        "  jobpage = BeautifulSoup(r.text, \"html.parser\")\n",
        "  title = data_cleaner(jobpage.find(class_ = \"job-title\"))[0]\n",
        "  resultDICT['jobTitle'] = title\n",
        "  salary = jobpage.find(class_ = 'jobItem').find(\"li\").find(\"span\").text[1:]\n",
        "  resultDICT['salary'] = salary\n",
        "  company = jobpage.select(\"a span\")[1].text\n",
        "  resultDICT['company'] = company\n",
        "  address = jobpage.find(class_ = 'jobItem').find_all(\"li\")[1].find(\"span\").text[1:]\n",
        "  resultDICT['geoInfo']['address'] = address\n",
        "  condition = jobpage.find(class_ = 'condition').find_all('li')\n",
        "  index = 1\n",
        "  for i in condition:\n",
        "    if i.find(\"span\") != None:\n",
        "      # print(\"第{}個\".format(index), i.text[0:4], i.find(\"span\").text)\n",
        "      index+=1\n",
        "      if '工作經驗' in i.text:\n",
        "        if i.text[0:4] == \"工作經驗\":\n",
        "          experience = i.find(\"span\").text[1:]\n",
        "          resultDICT['experience'] = experience\n",
        "      else:\n",
        "        experience = ''\n",
        "      if '科系限制' in i.text:\n",
        "        if i.text[0:4] == \"科系限制\":\n",
        "          majoring = i.find(\"span\").text\n",
        "          resultDICT['majoring'] = majoring\n",
        "      else:\n",
        "        majoring = ''\n",
        "      if '語文條件' in i.text:\n",
        "        if i.text[0:4] == \"語文條件\":\n",
        "          language = i.find(\"span\").text[1:].partition(\"方\")[0]\n",
        "          language = language.replace(\"\\xa0\", \" \")\n",
        "          resultDICT['language'] = language\n",
        "      else:\n",
        "        language = ''\n",
        "      if '方言條件' in i.text:\n",
        "        if i.text[0:4] == \"方言條件\":\n",
        "          dialect = i.find(\"span\").text\n",
        "          dialect = dialect.replace(\"\\xa0\", \" \")\n",
        "          resultDICT['dialect'] = dialect\n",
        "      else:\n",
        "        dialect = ''\n",
        "      if '擅長工具' in i.text:\n",
        "        if i.text[0:4] == \"擅長工具\":\n",
        "          tool = i.find(\"span\").text[1:]\n",
        "          resultDICT['tool'] = tool\n",
        "      else:\n",
        "        tool = ''\n",
        "      if '工作技能' in i.text:\n",
        "        if i.text[0:4] == \"工作技能\":\n",
        "          if '駕照' in i.find(\"span\").text:\n",
        "            skills = i.find(\"span\").text[1:].partition(\"需\")[0]\n",
        "            resultDICT['skills'] = skills\n",
        "          elif '證照' in i.find(\"span\").text:\n",
        "            skills = i.find(\"span\").text[1:].partition(\"所\")[0]\n",
        "            resultDICT['skills'] = skills\n",
        "          else:\n",
        "            skills = i.find(\"span\").text[1:]\n",
        "            resultDICT['skills'] = skills\n",
        "      else:\n",
        "        skills = ''\n",
        "      if '所需證照' in i.text:\n",
        "        if i.text[0:4] == \"所需證照\":\n",
        "          certificate = i.find(\"span\").text\n",
        "          resultDICT['certificate'] = certificate\n",
        "      else:\n",
        "        certificate = ''\n",
        "      if '需備駕照' in i.text:\n",
        "        if i.text[0:4] == \"需備駕照\":\n",
        "          license = i.find(\"span\").text\n",
        "          resultDICT['license'] = license\n",
        "      else:\n",
        "        license = ''\n",
        "  return resultDICT"
      ],
      "execution_count": 9,
      "outputs": []
    },
    {
      "cell_type": "code",
      "metadata": {
        "colab": {
          "base_uri": "https://localhost:8080/"
        },
        "id": "zyY7UPIFNb6E",
        "outputId": "597b40ed-6d02-4505-cc04-d6c2ccc0b78c"
      },
      "source": [
        "resultLIST = list()\n",
        "for jobUrl in jobUrlLIST:\n",
        "  if jobUrlLIST.index(jobUrl) == int(len(jobUrlLIST)*0.25):\n",
        "    print(\"已爬取25%的網頁\")\n",
        "  if jobUrlLIST.index(jobUrl) == int(len(jobUrlLIST)*0.5):\n",
        "    print(\"已爬取50%的網頁\")\n",
        "  if jobUrlLIST.index(jobUrl) == int(len(jobUrlLIST)*0.75):\n",
        "    print(\"已爬取75%的網頁\")\n",
        "  resultDICT = jobLIST_grabber(jobUrl)\n",
        "  resultLIST.append(resultDICT)\n",
        "print(\"爬取完畢\")"
      ],
      "execution_count": 10,
      "outputs": [
        {
          "output_type": "stream",
          "text": [
            "已爬取25%的網頁\n",
            "已爬取50%的網頁\n",
            "已爬取75%的網頁\n",
            "爬取完畢\n"
          ],
          "name": "stdout"
        }
      ]
    },
    {
      "cell_type": "code",
      "metadata": {
        "colab": {
          "base_uri": "https://localhost:8080/"
        },
        "id": "hpv4TDwz1csf",
        "outputId": "6ccc32f6-7a77-4204-e935-10cb2e529f2c"
      },
      "source": [
        "len(resultLIST)"
      ],
      "execution_count": 11,
      "outputs": [
        {
          "output_type": "execute_result",
          "data": {
            "text/plain": [
              "66"
            ]
          },
          "metadata": {
            "tags": []
          },
          "execution_count": 11
        }
      ]
    },
    {
      "cell_type": "code",
      "metadata": {
        "colab": {
          "base_uri": "https://localhost:8080/"
        },
        "id": "J5FlIF5bnE5r",
        "outputId": "62b997c8-f015-4db4-c22c-be617547b3b3"
      },
      "source": [
        "for i in resultLIST:\n",
        "  print(i)"
      ],
      "execution_count": 12,
      "outputs": [
        {
          "output_type": "stream",
          "text": [
            "{'jobTitle': '作業員', 'company': '瑞瓏紙器有限公司', 'salary': '月薪 24,000 元', 'geoInfo': {'address': '彰化縣福興鄉福三路三段197巷66號'}, 'majoring': [''], 'tool': '不拘', 'skills': '不拘', 'certificate': [''], 'experience': '無經驗可', 'license': '', 'language': '不拘', 'dialect': ''}\n",
            "{'jobTitle': '行政助理', 'company': '瑞瓏紙器有限公司', 'salary': '月薪 26,000 元', 'geoInfo': {'address': '彰化縣福興鄉福三路三段197巷66號'}, 'majoring': [''], 'tool': '不拘', 'skills': '不拘', 'certificate': [''], 'experience': '無經驗可', 'license': '', 'language': '不拘', 'dialect': ''}\n",
            "{'jobTitle': 'PT晚班房務', 'company': '花鄉旅館連鎖巨蛋店(歐洲旅舘)', 'salary': '時薪 160 元以上', 'geoInfo': {'address': '高雄市左營區文智路95號'}, 'majoring': [''], 'tool': '不拘', 'skills': '不拘', 'certificate': [''], 'experience': '不拘', 'license': '', 'language': '不拘', 'dialect': ''}\n",
            "{'jobTitle': '活動企劃專員', 'company': '京采活動工程股份有限公司', 'salary': '月薪 24,000 至 45,000 元', 'geoInfo': {'address': '桃園區吉安一街１１８號'}, 'majoring': [''], 'tool': 'PowerPoint、、、Excel、Adobe Acrobat、、、Word', 'skills': '公關活動規劃與執行、公關議題與危機處理、活動主持與場控、記者會規劃與執行、公關新聞稿撰寫與報導', 'certificate': [''], 'experience': '1年以上', 'license': '輕型機車、普通小型車', 'language': '不拘', 'dialect': ''}\n",
            "{'jobTitle': '洗碗人員', 'company': '大月日本料理(津全有限公司)', 'salary': '月薪 24,000 至 26,000 元', 'geoInfo': {'address': '新北市板橋區三民路二段9號'}, 'majoring': [''], 'tool': '不拘', 'skills': '不拘', 'certificate': [''], 'experience': '不拘', 'license': '', 'language': '不拘', 'dialect': ''}\n",
            "{'jobTitle': '烏弄虎尾中正店 - 早班正職人員', 'company': '烏弄unocha(昱茗茶飲企業社/台中學士店)', 'salary': '月薪 28,000 至 32,000 元', 'geoInfo': {'address': '雲林縣虎尾鎮中正路110號'}, 'majoring': [''], 'tool': '不拘', 'skills': '不拘', 'certificate': [''], 'experience': '不拘', 'license': '普通重型機車', 'language': '不拘', 'dialect': ''}\n",
            "{'jobTitle': '內外場人員', 'company': '好佳日式涮涮鍋', 'salary': '月薪 24,000 元', 'geoInfo': {'address': '新北市泰山區明志路二段216號'}, 'majoring': [''], 'tool': '不拘', 'skills': '不拘', 'certificate': [''], 'experience': '不拘', 'license': '', 'language': '不拘', 'dialect': ''}\n",
            "{'jobTitle': '女裝服飾店 門市正職人員', 'company': '(Rabbit x Rabbit)瑞比服飾店', 'salary': '月薪 25,000 至 48,000 元', 'geoInfo': {'address': '桃園市中壢區中平路141號'}, 'majoring': [''], 'tool': '不拘', 'skills': '不拘', 'certificate': [''], 'experience': '不拘', 'license': '', 'language': '不拘', 'dialect': ''}\n",
            "{'jobTitle': '冷凍空調學徒', 'company': '和致有限公司', 'salary': '月薪 35,000 至 40,000 元', 'geoInfo': {'address': '台南市仁德區文華路3段428巷130弄11號'}, 'majoring': '冷凍空調相關、電機電子維護相關', 'tool': '不拘', 'skills': '冷凍空調工程之規劃施工', 'certificate': [''], 'experience': '5年以上', 'license': '普通小型車', 'language': '不拘', 'dialect': ''}\n",
            "{'jobTitle': '晚班櫃台', 'company': '利亨通彩券行', 'salary': '月薪 28,000 至 32,000 元', 'geoInfo': {'address': '新北市樹林區太元街'}, 'majoring': [''], 'tool': '不拘', 'skills': '櫃檯門市接待與', 'certificate': [''], 'experience': '無經驗可', 'license': '普通重型機車、輕型機車', 'language': '不拘', 'dialect': ''}\n",
            "{'jobTitle': '資訊助理人員-早班', 'company': '露絲數位科技有限公司', 'salary': '月薪 28,000 至 33,000 元', 'geoInfo': {'address': '台中市西屯區西屯路二段'}, 'majoring': [''], 'tool': 'Excel、Word、Internet Explorer', 'skills': '不拘', 'certificate': [''], 'experience': '不拘', 'license': '輕型機車', 'language': '不拘', 'dialect': ''}\n",
            "{'jobTitle': '線上行政客服-早班', 'company': '露絲數位科技有限公司', 'salary': '月薪 28,000 至 33,000 元', 'geoInfo': {'address': '台中市西屯區西屯路二段'}, 'majoring': [''], 'tool': 'Word、PowerPoint、Excel、Internet Explorer', 'skills': '不拘', 'certificate': [''], 'experience': '不拘', 'license': '輕型機車', 'language': '中文 聽:精通 / 說:精通 / 讀:精通 / 寫:精通', 'dialect': ''}\n",
            "{'jobTitle': '晚班正職7-11清峰門市', 'company': '統一超商清峰加盟店(啟荿商行)', 'salary': '月薪 24,000 至 28,000 元', 'geoInfo': {'address': '台中市清水區中華路330號'}, 'majoring': [''], 'tool': '不拘', 'skills': '不拘', 'certificate': [''], 'experience': '不拘', 'license': '', 'language': '不拘', 'dialect': ''}\n",
            "{'jobTitle': '烏弄虎尾中正店 - 計時人員', 'company': '烏弄unocha(昱茗茶飲企業社/台中學士店)', 'salary': '時薪 160 至 180 元', 'geoInfo': {'address': '雲林縣虎尾鎮中正路110號'}, 'majoring': [''], 'tool': '不拘', 'skills': '不拘', 'certificate': [''], 'experience': '不拘', 'license': '普通重型機車', 'language': '不拘', 'dialect': ''}\n",
            "{'jobTitle': '微微糖-飲料店-誠徵晚班/正職人員', 'company': '微微糖', 'salary': '時薪 160 元以上', 'geoInfo': {'address': '桃園市中壢區春德路291號'}, 'majoring': [''], 'tool': '不拘', 'skills': '不拘', 'certificate': [''], 'experience': '不拘', 'license': '普通重型機車、輕型機車', 'language': '不拘', 'dialect': ''}\n",
            "{'jobTitle': '統一超商真莘門市早班職員', 'company': '真莘門市(百舜商行)', 'salary': '時薪 160 元以上', 'geoInfo': {'address': '新北市新店區中正路362號'}, 'majoring': [''], 'tool': '不拘', 'skills': '不拘', 'certificate': [''], 'experience': '不拘', 'license': '', 'language': '不拘', 'dialect': ''}\n",
            "{'jobTitle': '包裝作業員', 'company': '源聖塑膠模具有限公司', 'salary': '月薪 26,600 至 27,400 元', 'geoInfo': {'address': '台南市安南區長和路一段222巷40號'}, 'majoring': [''], 'tool': '不拘', 'skills': '不拘', 'certificate': [''], 'experience': '無經驗可', 'license': '', 'language': '中文 聽:精通 / 說:精通 / 讀:精通 / 寫:精通', 'dialect': '台語 : 略懂 '}\n",
            "{'jobTitle': '統一超商-正鵬門市工讀', 'company': '真莘門市(百舜商行)', 'salary': '時薪 160 元', 'geoInfo': {'address': '新北市新店區新北市新店區中正路688號690號1樓'}, 'majoring': [''], 'tool': '不拘', 'skills': '不拘', 'certificate': [''], 'experience': '無經驗可', 'license': '', 'language': '不拘', 'dialect': ''}\n",
            "{'jobTitle': '早安美芝城徴5-13工作人員-中華西店', 'company': '早安美芝城活力中華西店', 'salary': '時薪 160 至 165 元', 'geoInfo': {'address': '台南市中西區中華西路二段420號'}, 'majoring': [''], 'tool': '不拘', 'skills': '不拘', 'certificate': [''], 'experience': '不拘', 'license': '輕型機車', 'language': '不拘', 'dialect': ''}\n",
            "{'jobTitle': '統一超商-新矽谷門市早班短工時工讀', 'company': '真莘門市(百舜商行)', 'salary': '時薪 160 元', 'geoInfo': {'address': '新北市新店區新北市新店區北新路三段205之1號'}, 'majoring': [''], 'tool': '不拘', 'skills': '不拘', 'certificate': [''], 'experience': '無經驗可', 'license': '', 'language': '不拘', 'dialect': ''}\n",
            "{'jobTitle': '統一超商-新矽谷門市早班工讀', 'company': '真莘門市(百舜商行)', 'salary': '時薪 160 元', 'geoInfo': {'address': '新北市新店區新北市新店區北新路三段205之1號'}, 'majoring': [''], 'tool': '不拘', 'skills': '不拘', 'certificate': [''], 'experience': '不拘', 'license': '', 'language': '不拘', 'dialect': ''}\n",
            "{'jobTitle': '網拍直播客服幫手', 'company': '心潮有限公司', 'salary': '月薪 26,400 至 38,000 元', 'geoInfo': {'address': '桃園區中山東路21號4樓'}, 'majoring': [''], 'tool': '不拘', 'skills': '不拘', 'certificate': [''], 'experience': '不拘', 'license': '', 'language': '不拘', 'dialect': ''}\n",
            "{'jobTitle': '統一超商真莘門市早班短工時職員', 'company': '真莘門市(百舜商行)', 'salary': '時薪 160 元以上', 'geoInfo': {'address': '新北市新店區中正路362號'}, 'majoring': [''], 'tool': '不拘', 'skills': '不拘', 'certificate': [''], 'experience': '不拘', 'license': '', 'language': '不拘', 'dialect': ''}\n",
            "{'jobTitle': '統一超商新極景門市短工時晚班', 'company': '真莘門市(百舜商行)', 'salary': '時薪 160 元以上', 'geoInfo': {'address': '新北市新店區中正路362號'}, 'majoring': [''], 'tool': '不拘', 'skills': '不拘', 'certificate': [''], 'experience': '不拘', 'license': '', 'language': '不拘', 'dialect': ''}\n",
            "{'jobTitle': '車貸電話行銷(底薪+高獎金) (台中市漢口路)', 'company': '仁嘉行銷有限公司', 'salary': '月薪 25,000 至 100,000 元', 'geoInfo': {'address': '台中市西屯區漢口路二段151號12樓9-1'}, 'majoring': [''], 'tool': '不拘', 'skills': '不拘', 'certificate': [''], 'experience': '不拘', 'license': '', 'language': '中文 聽:精通 / 說:精通 / 讀:精通 / 寫:精通', 'dialect': '台語 : 中等 '}\n",
            "{'jobTitle': '統一超商真莘大夜人員', 'company': '真莘門市(百舜商行)', 'salary': '月薪 35,000 元', 'geoInfo': {'address': '新北市新店區中正路362號'}, 'majoring': [''], 'tool': '不拘', 'skills': '不拘', 'certificate': [''], 'experience': '不拘', 'license': '', 'language': '不拘', 'dialect': ''}\n",
            "{'jobTitle': '統一超商新極景門市早班職員', 'company': '真莘門市(百舜商行)', 'salary': '時薪 160 元以上', 'geoInfo': {'address': '新北市新店區北新路二段252-1號'}, 'majoring': [''], 'tool': '不拘', 'skills': '不拘', 'certificate': [''], 'experience': '不拘', 'license': '', 'language': '不拘', 'dialect': ''}\n",
            "{'jobTitle': '統一超商潭安門市晚班職員', 'company': '真莘門市(百舜商行)', 'salary': '時薪 160 元以上', 'geoInfo': {'address': '新北市新店區中正路362號'}, 'majoring': [''], 'tool': '不拘', 'skills': '不拘', 'certificate': [''], 'experience': '不拘', 'license': '', 'language': '不拘', 'dialect': ''}\n",
            "{'jobTitle': '直播小幫手時薪180元(晚班)', 'company': '卓陳玉梅精品百貨行', 'salary': '時薪 180 元', 'geoInfo': {'address': '新北市三重區三和路四段特109號1樓(東阪屋)'}, 'majoring': [''], 'tool': '不拘', 'skills': '不拘', 'certificate': [''], 'experience': '無經驗可', 'license': '', 'language': '不拘', 'dialect': ''}\n",
            "{'jobTitle': '統一超商新極景門市晚班', 'company': '真莘門市(百舜商行)', 'salary': '時薪 160 元以上', 'geoInfo': {'address': '新北市新店區中正路362號'}, 'majoring': [''], 'tool': '不拘', 'skills': '不拘', 'certificate': [''], 'experience': '不拘', 'license': '', 'language': '不拘', 'dialect': ''}\n",
            "{'jobTitle': '統一超商潭安門市早班職員', 'company': '真莘門市(百舜商行)', 'salary': '時薪 160 元以上', 'geoInfo': {'address': '新北市永和區中正路167號'}, 'majoring': [''], 'tool': '不拘', 'skills': '不拘', 'certificate': [''], 'experience': '不拘', 'license': '', 'language': '不拘', 'dialect': ''}\n",
            "{'jobTitle': '牙科助理(正職)', 'company': '得雅牙醫診所', 'salary': '月薪 25,000 至 30,000 元', 'geoInfo': {'address': '新北市板橋區新海路68號'}, 'majoring': [''], 'tool': '不拘', 'skills': '不拘', 'certificate': [''], 'experience': '無經驗可', 'license': '', 'language': '不拘', 'dialect': ''}\n",
            "{'jobTitle': '新營 網際網路 大夜班服務人員', 'company': '巨網網際網路生活館', 'salary': '月薪 29,000 元以上', 'geoInfo': {'address': '台南市新營區健康路65號'}, 'majoring': [''], 'tool': '不拘', 'skills': '不拘', 'certificate': [''], 'experience': '無經驗可', 'license': '', 'language': '不拘', 'dialect': ''}\n",
            "{'jobTitle': '7-11 正職人員', 'company': '7-11統一超商(鑫德芳企業社/祥發門市)', 'salary': '月薪 32,000 至 36,000 元', 'geoInfo': {'address': '台南市東區裕豐街187號1樓'}, 'majoring': [''], 'tool': '不拘', 'skills': '不拘', 'certificate': [''], 'experience': '不拘', 'license': '普通重型機車', 'language': '不拘', 'dialect': ''}\n",
            "{'jobTitle': '美廉社晚班兼職(板橋區)', 'company': '美廉社(裕豐企業商行)', 'salary': '時薪 160 至 170 元', 'geoInfo': {'address': '新北市板橋區長安街'}, 'majoring': [''], 'tool': '不拘', 'skills': '不拘', 'certificate': [''], 'experience': '無經驗可', 'license': '', 'language': '不拘', 'dialect': ''}\n",
            "{'jobTitle': '7-11 晚班工讀生', 'company': '7-11統一超商(鑫德芳企業社/祥發門市)', 'salary': '時薪 175 至 185 元', 'geoInfo': {'address': '台南市東區裕豐街187號1樓'}, 'majoring': [''], 'tool': '不拘', 'skills': '不拘', 'certificate': [''], 'experience': '不拘', 'license': '普通重型機車', 'language': '不拘', 'dialect': ''}\n",
            "{'jobTitle': '堆高機人員', 'company': '健發綜合物流有限公司', 'salary': '時薪 170 元', 'geoInfo': {'address': '桃園市平鎮區雙福路一段65號'}, 'majoring': [''], 'tool': '不拘', 'skills': '不拘', 'certificate': '堆高機操作技術士', 'experience': '不拘', 'license': '', 'language': '不拘', 'dialect': ''}\n",
            "{'jobTitle': '檢驗人員', 'company': '健發綜合物流有限公司', 'salary': '時薪 160 元', 'geoInfo': {'address': '桃園市平鎮區雙福路一段65號'}, 'majoring': [''], 'tool': '不拘', 'skills': '不拘', 'certificate': [''], 'experience': '不拘', 'license': '', 'language': '不拘', 'dialect': ''}\n",
            "{'jobTitle': '櫃台行政人員', 'company': '利亨通彩券行', 'salary': '月薪 26,000 至 30,000 元', 'geoInfo': {'address': '新北市樹林區太平路'}, 'majoring': [''], 'tool': '不拘', 'skills': '不拘', 'certificate': [''], 'experience': '無經驗可', 'license': '輕型機車、普通重型機車', 'language': '不拘', 'dialect': ''}\n",
            "{'jobTitle': '彩券行早班/晚班銷售人員', 'company': '金財富彩券行', 'salary': '月薪 34,000 至 40,000 元', 'geoInfo': {'address': '台北市中山區民生東路1段25之4號'}, 'majoring': [''], 'tool': 'Excel、Word', 'skills': '不拘', 'certificate': [''], 'experience': '不拘', 'license': '輕型機車', 'language': '不拘', 'dialect': ''}\n",
            "{'jobTitle': '聘請 苑裡 門市人員', 'company': '生活着衣流行服飾', 'salary': '月薪 29,000 元', 'geoInfo': {'address': '苗栗縣苑裡鎮新興路66-2號'}, 'majoring': [''], 'tool': '不拘', 'skills': '不拘', 'certificate': [''], 'experience': '無經驗可', 'license': '', 'language': '不拘', 'dialect': ''}\n",
            "{'jobTitle': '木地板師父、學徒數名', 'company': '沛采時尚館', 'salary': '日薪 1,000 元以上', 'geoInfo': {'address': '桃園市中壢區文中路二段295巷12之90號'}, 'majoring': [''], 'tool': '不拘', 'skills': '不拘', 'certificate': [''], 'experience': '不拘', 'license': '普通重型機車、普通小型車', 'language': '不拘', 'dialect': ''}\n",
            "{'jobTitle': '瓦斯灌裝員32K-35K', 'company': '鴻奇煤氣分裝有限公司', 'salary': '月薪 32,000 至 35,000 元', 'geoInfo': {'address': '桃園市蘆竹區富竹村富宏街345號'}, 'majoring': [''], 'tool': '不拘', 'skills': '不拘', 'certificate': [''], 'experience': '無經驗可', 'license': '', 'language': '不拘', 'dialect': '台語 : 略懂 '}\n",
            "{'jobTitle': '門市人員  早班', 'company': 'N23tea 樂沏時尚鮮飲', 'salary': '月薪 24,000 至 27,000 元', 'geoInfo': {'address': '台南市中西區民生路二段117號'}, 'majoring': [''], 'tool': '不拘', 'skills': '不拘', 'certificate': [''], 'experience': '不拘', 'license': '輕型機車', 'language': '不拘', 'dialect': ''}\n",
            "{'jobTitle': '烏弄虎尾中正店 - 晚班正職人員', 'company': '烏弄unocha(昱茗茶飲企業社/台中學士店)', 'salary': '月薪 28,000 至 32,000 元', 'geoInfo': {'address': '雲林縣虎尾鎮中正路110號'}, 'majoring': [''], 'tool': '不拘', 'skills': '不拘', 'certificate': [''], 'experience': '不拘', 'license': '普通重型機車', 'language': '不拘', 'dialect': ''}\n",
            "{'jobTitle': '診所助理/工讀生', 'company': '德一中醫診所', 'salary': '時薪 160 元以上', 'geoInfo': {'address': '台中市太平區太順路337號'}, 'majoring': [''], 'tool': '不拘', 'skills': '不拘', 'certificate': [''], 'experience': '無經驗可', 'license': '', 'language': '不拘', 'dialect': ''}\n",
            "{'jobTitle': '日式料理中工-黑土食玖町', 'company': '黑土商行', 'salary': '月薪 28,000 至 32,000 元', 'geoInfo': {'address': '台中市西屯區福科路432號'}, 'majoring': [''], 'tool': 'Word、Excel', 'skills': '不拘', 'certificate': [''], 'experience': '無經驗可', 'license': '普通重型機車', 'language': '中文 聽:精通 / 說:精通 / 讀:精通 / 寫:精通', 'dialect': '台語 : 中等 '}\n",
            "{'jobTitle': '享讚自助餐(廚師)-月薪40000起', 'company': '孫東寶士林天母店(禎德好小吃店)', 'salary': '月薪 40,000 元以上', 'geoInfo': {'address': '台北市北投區自強街114號'}, 'majoring': [''], 'tool': '不拘', 'skills': '不拘', 'certificate': '丙級中餐烹調技術士', 'experience': '不拘', 'license': '', 'language': '不拘', 'dialect': ''}\n",
            "{'jobTitle': '桃園區-財務秘書', 'company': '龍翔保全股份有限公司', 'salary': '月薪 28,000 至 34,000 元', 'geoInfo': {'address': '桃園區桃園市桃園區經國路525號9樓'}, 'majoring': [''], 'tool': '不拘', 'skills': '不拘', 'certificate': [''], 'experience': '不拘', 'license': '', 'language': '不拘', 'dialect': ''}\n",
            "{'jobTitle': 'YES服飾門市人員', 'company': 'YES流行服飾', 'salary': '月薪 30,000 至 35,000 元', 'geoInfo': {'address': '高雄市鳳山區中山路173-1號'}, 'majoring': [''], 'tool': '不拘', 'skills': '不拘', 'certificate': [''], 'experience': '無經驗可', 'license': '', 'language': '不拘', 'dialect': ''}\n",
            "{'jobTitle': '玉小蘭(複合式簡餐)內場廚師', 'company': '玉小蘭 IN Kitchen(捷堡國際有限公司民生店)', 'salary': '月薪 35,000 至 38,000 元', 'geoInfo': {'address': '台北市松山區民生東路四段67號'}, 'majoring': [''], 'tool': '不拘', 'skills': '不拘', 'certificate': [''], 'experience': '無經驗可', 'license': '', 'language': '不拘', 'dialect': ''}\n",
            "{'jobTitle': 'cnc銑床技術員', 'company': '福興精密企業社', 'salary': '月薪 26,000 元以上', 'geoInfo': {'address': '高雄市大寮區光明路一段112號之6'}, 'majoring': [''], 'tool': '不拘', 'skills': '不拘', 'certificate': [''], 'experience': '無經驗可', 'license': '普通重型機車、普通小型車', 'language': '不拘', 'dialect': ''}\n",
            "{'jobTitle': '噴砂作業人員', 'company': '亮泰有限公司', 'salary': '月薪 28,000 至 33,000 元', 'geoInfo': {'address': '新北市土城區大暖路45號'}, 'majoring': [''], 'tool': '不拘', 'skills': '不拘', 'certificate': [''], 'experience': '不拘', 'license': '輕型機車', 'language': '不拘', 'dialect': ''}\n",
            "{'jobTitle': '內場烤台 冷台 炒台', 'company': '老八風有限公司', 'salary': '月薪 33,000 至 40,000 元', 'geoInfo': {'address': '新北市板橋區文化路二段182巷7弄3號'}, 'majoring': [''], 'tool': '不拘', 'skills': '不拘', 'certificate': [''], 'experience': '1年以上', 'license': '', 'language': '不拘', 'dialect': ''}\n",
            "{'jobTitle': '外場服務人員', 'company': '老八風有限公司', 'salary': '月薪 32,000 至 45,000 元', 'geoInfo': {'address': '新北市板橋區文化路二段182巷7弄3號'}, 'majoring': [''], 'tool': '不拘', 'skills': '不拘', 'certificate': [''], 'experience': '1年以上', 'license': '', 'language': '不拘', 'dialect': ''}\n",
            "{'jobTitle': '外場-工讀生', 'company': '老八風有限公司', 'salary': '時薪 160 至 180 元', 'geoInfo': {'address': '新北市板橋區文化路二段182巷7弄3號'}, 'majoring': [''], 'tool': '不拘', 'skills': '不拘', 'certificate': [''], 'experience': '不拘', 'license': '', 'language': '不拘', 'dialect': ''}\n",
            "{'jobTitle': '7-11鹿成門市 大夜班', 'company': '統一超商清峰加盟店(啟荿商行)', 'salary': '時薪 175 至 180 元', 'geoInfo': {'address': '台中市沙鹿區光華路396號'}, 'majoring': [''], 'tool': '不拘', 'skills': '不拘', 'certificate': [''], 'experience': '不拘', 'license': '', 'language': '不拘', 'dialect': ''}\n",
            "{'jobTitle': '清心福全三重自強店-早晚長期輪班正職', 'company': '清心福全冷飲站(三重自強店)', 'salary': '月薪 32,000 至 40,000 元', 'geoInfo': {'address': '新北市三重區自強路1段314號1樓'}, 'majoring': [''], 'tool': '不拘', 'skills': '不拘', 'certificate': [''], 'experience': '無經驗可', 'license': '輕型機車、普通重型機車', 'language': '不拘', 'dialect': ''}\n",
            "{'jobTitle': '活動企劃助理', 'company': '京采活動工程股份有限公司', 'salary': '月薪 24,000 至 45,000 元', 'geoInfo': {'address': '桃園區吉安一街118號'}, 'majoring': [''], 'tool': 'Word、PowerPoint、Excel、3ds Max Design、Illustrator、3D Max、AutoCAD', 'skills': '不拘', 'certificate': [''], 'experience': '半年以上', 'license': '輕型機車、普通小型車', 'language': '不拘', 'dialect': ''}\n",
            "{'jobTitle': '夜間櫃檯人員(月休8天)', 'company': '波特曼汽車旅館', 'salary': '月薪 28,000 元以上', 'geoInfo': {'address': '台中市西屯區市政北7路188號'}, 'majoring': [''], 'tool': 'Windows XP、中文打字20~50、Word、Excel、Internet Explorer、Windows 7、Windows 8、Windows 10', 'skills': '不拘', 'certificate': [''], 'experience': '無經驗可', 'license': '輕型機車、普通小型車', 'language': '中文 聽:精通 / 說:精通 / 讀:精通 / 寫:精通英文 聽:中等 / 說:中等 / 讀:中等 / 寫:中等', 'dialect': '台語 : 中等 '}\n",
            "{'jobTitle': '(月休8天)門市人員(薪32K)-旗鑑店晚班', 'company': '鮮瑩股份有限公司', 'salary': '月薪 32,000 元以上', 'geoInfo': {'address': '台中市南屯區五權西路二段355-1號'}, 'majoring': [''], 'tool': '不拘', 'skills': '不拘', 'certificate': [''], 'experience': '無經驗可', 'license': '', 'language': '中文 聽:精通 / 說:精通 / 讀:精通 / 寫:精通', 'dialect': ''}\n",
            "{'jobTitle': '兼職助理-晚班假日', 'company': '京威牙醫診所', 'salary': '時薪 160 至 200 元', 'geoInfo': {'address': '台北市內湖區金湖路376號'}, 'majoring': [''], 'tool': '不拘', 'skills': '不拘', 'certificate': [''], 'experience': '無經驗可', 'license': '', 'language': '不拘', 'dialect': ''}\n",
            "{'jobTitle': '儲備幹部', 'company': '波特曼汽車旅館', 'salary': '月薪 30,000 至 33,000 元', 'geoInfo': {'address': '台中市西屯區市政北7路188號'}, 'majoring': [''], 'tool': 'Word、PowerPoint、Project、Excel、Outlook、Internet Explorer、Windows XP、中文打字20~50', 'skills': '不拘', 'certificate': [''], 'experience': '不拘', 'license': '輕型機車、普通小型車', 'language': '中文 聽:精通 / 說:精通 / 讀:精通 / 寫:精通英文 聽:中等 / 說:中等 / 讀:中等 / 寫:中等', 'dialect': '台語 : 中等 '}\n",
            "{'jobTitle': '行銷企劃人員 Marketing Specialist', 'company': '科瑞麗國際有限公司', 'salary': '月薪 30,000 至 40,000 元', 'geoInfo': {'address': '桃園市中壢區高鐵站前西路一段268號'}, 'majoring': '語文/人文、商業/管理、大眾傳播', 'tool': '不拘', 'skills': '不拘', 'certificate': [''], 'experience': '3年以上', 'license': '', 'language': '不拘', 'dialect': ''}\n",
            "{'jobTitle': '(月休8天)門市人員(薪32000)-旗鑑店早班', 'company': '鮮瑩股份有限公司', 'salary': '月薪 32,000 元以上', 'geoInfo': {'address': '台中市南屯區五權西路二段355-1號'}, 'majoring': [''], 'tool': '不拘', 'skills': '不拘', 'certificate': [''], 'experience': '無經驗可', 'license': '', 'language': '中文 聽:精通 / 說:精通 / 讀:精通 / 寫:精通', 'dialect': ''}\n",
            "{'jobTitle': '7-11清峰早班', 'company': '統一超商清峰加盟店(啟荿商行)', 'salary': '時薪 160 元', 'geoInfo': {'address': '台中市清水區中華路330號'}, 'majoring': [''], 'tool': '不拘', 'skills': '不拘', 'certificate': [''], 'experience': '不拘', 'license': '', 'language': '不拘', 'dialect': ''}\n"
          ],
          "name": "stdout"
        }
      ]
    },
    {
      "cell_type": "code",
      "metadata": {
        "id": "ujqpb6njC28d"
      },
      "source": [
        "with open(\"518JobLIST_{}.json\".format(datetime.date.today()), \"w\", encoding=\"utf-8\") as f:\n",
        "        json.dump(resultLIST, f, ensure_ascii=False)"
      ],
      "execution_count": 13,
      "outputs": []
    }
  ]
}